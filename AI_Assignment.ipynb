{
 "cells": [
  {
   "cell_type": "markdown",
   "id": "6eb42219-7dfb-4c36-bb36-e597858898a8",
   "metadata": {},
   "source": [
    "Prompt: I need seaborn, matplotlib, plotly, train_test_split, StandardScaler, KNeighborsClassifier, confusion_matrix, classification_report, accuracy_score, precision_score, recall_score, f1_score; import all this and pandas\n",
    "\n",
    "AI: ChatGPT-4"
   ]
  },
  {
   "cell_type": "code",
   "execution_count": 1,
   "id": "7e406abe-0ca1-4220-9ab9-6f85da268060",
   "metadata": {
    "tags": []
   },
   "outputs": [],
   "source": [
    "# Data manipulation\n",
    "import pandas as pd\n",
    "\n",
    "# Visualization\n",
    "import seaborn as sns\n",
    "import matplotlib.pyplot as plt\n",
    "import plotly.express as px\n",
    "\n",
    "# Data preprocessing\n",
    "from sklearn.model_selection import train_test_split\n",
    "from sklearn.preprocessing import StandardScaler\n",
    "\n",
    "# Machine learning model\n",
    "from sklearn.neighbors import KNeighborsClassifier\n",
    "\n",
    "# Evaluation metrics\n",
    "from sklearn.metrics import (\n",
    "    confusion_matrix,\n",
    "    classification_report,\n",
    "    accuracy_score,\n",
    "    precision_score,\n",
    "    recall_score,\n",
    "    f1_score\n",
    ")"
   ]
  },
  {
   "cell_type": "markdown",
   "id": "1665e6a2-dfe0-4b88-9911-90a075b4377b",
   "metadata": {},
   "source": [
    "Prompt: I have data called 'card_transdata.csv', load the Credit Card Fraud Detection dataset and display the first few rows of the dataset and general information. Give the general scaffolding of how to do this, but don't use 'print function', but display it, and add the shape in as well\n",
    "\n",
    "AI: ChatGPT-4"
   ]
  },
  {
   "cell_type": "code",
   "execution_count": 2,
   "id": "5f48ac2b-8f75-4b1f-a761-0d5eab0d611f",
   "metadata": {},
   "outputs": [
    {
     "name": "stdout",
     "output_type": "stream",
     "text": [
      "<class 'pandas.core.frame.DataFrame'>\n",
      "RangeIndex: 999 entries, 0 to 998\n",
      "Data columns (total 8 columns):\n",
      " #   Column                          Non-Null Count  Dtype  \n",
      "---  ------                          --------------  -----  \n",
      " 0   distance_from_home              999 non-null    float64\n",
      " 1   distance_from_last_transaction  996 non-null    float64\n",
      " 2   ratio_to_median_purchase_price  997 non-null    float64\n",
      " 3   repeat_retailer                 992 non-null    float64\n",
      " 4   used_chip                       995 non-null    float64\n",
      " 5   used_pin_number                 997 non-null    float64\n",
      " 6   online_order                    995 non-null    float64\n",
      " 7   fraud                           999 non-null    int64  \n",
      "dtypes: float64(7), int64(1)\n",
      "memory usage: 62.6 KB\n"
     ]
    },
    {
     "data": {
      "text/html": [
       "<div>\n",
       "<style scoped>\n",
       "    .dataframe tbody tr th:only-of-type {\n",
       "        vertical-align: middle;\n",
       "    }\n",
       "\n",
       "    .dataframe tbody tr th {\n",
       "        vertical-align: top;\n",
       "    }\n",
       "\n",
       "    .dataframe thead th {\n",
       "        text-align: right;\n",
       "    }\n",
       "</style>\n",
       "<table border=\"1\" class=\"dataframe\">\n",
       "  <thead>\n",
       "    <tr style=\"text-align: right;\">\n",
       "      <th></th>\n",
       "      <th>distance_from_home</th>\n",
       "      <th>distance_from_last_transaction</th>\n",
       "      <th>ratio_to_median_purchase_price</th>\n",
       "      <th>repeat_retailer</th>\n",
       "      <th>used_chip</th>\n",
       "      <th>used_pin_number</th>\n",
       "      <th>online_order</th>\n",
       "      <th>fraud</th>\n",
       "    </tr>\n",
       "  </thead>\n",
       "  <tbody>\n",
       "    <tr>\n",
       "      <th>count</th>\n",
       "      <td>999.000000</td>\n",
       "      <td>996.000000</td>\n",
       "      <td>997.000000</td>\n",
       "      <td>992.000000</td>\n",
       "      <td>995.000000</td>\n",
       "      <td>997.000000</td>\n",
       "      <td>995.000000</td>\n",
       "      <td>999.000000</td>\n",
       "    </tr>\n",
       "    <tr>\n",
       "      <th>mean</th>\n",
       "      <td>26.876607</td>\n",
       "      <td>5.437319</td>\n",
       "      <td>1.655069</td>\n",
       "      <td>0.892137</td>\n",
       "      <td>0.313568</td>\n",
       "      <td>0.117352</td>\n",
       "      <td>0.673367</td>\n",
       "      <td>0.079079</td>\n",
       "    </tr>\n",
       "    <tr>\n",
       "      <th>std</th>\n",
       "      <td>63.899697</td>\n",
       "      <td>35.668094</td>\n",
       "      <td>2.351386</td>\n",
       "      <td>0.310364</td>\n",
       "      <td>0.464176</td>\n",
       "      <td>0.322001</td>\n",
       "      <td>0.469218</td>\n",
       "      <td>0.269997</td>\n",
       "    </tr>\n",
       "    <tr>\n",
       "      <th>min</th>\n",
       "      <td>0.104184</td>\n",
       "      <td>0.001448</td>\n",
       "      <td>0.016933</td>\n",
       "      <td>0.000000</td>\n",
       "      <td>0.000000</td>\n",
       "      <td>0.000000</td>\n",
       "      <td>0.000000</td>\n",
       "      <td>0.000000</td>\n",
       "    </tr>\n",
       "    <tr>\n",
       "      <th>25%</th>\n",
       "      <td>3.990543</td>\n",
       "      <td>0.306441</td>\n",
       "      <td>0.468123</td>\n",
       "      <td>1.000000</td>\n",
       "      <td>0.000000</td>\n",
       "      <td>0.000000</td>\n",
       "      <td>0.000000</td>\n",
       "      <td>0.000000</td>\n",
       "    </tr>\n",
       "    <tr>\n",
       "      <th>50%</th>\n",
       "      <td>10.340321</td>\n",
       "      <td>0.958539</td>\n",
       "      <td>0.955504</td>\n",
       "      <td>1.000000</td>\n",
       "      <td>0.000000</td>\n",
       "      <td>0.000000</td>\n",
       "      <td>1.000000</td>\n",
       "      <td>0.000000</td>\n",
       "    </tr>\n",
       "    <tr>\n",
       "      <th>75%</th>\n",
       "      <td>25.393952</td>\n",
       "      <td>3.137259</td>\n",
       "      <td>1.922025</td>\n",
       "      <td>1.000000</td>\n",
       "      <td>1.000000</td>\n",
       "      <td>0.000000</td>\n",
       "      <td>1.000000</td>\n",
       "      <td>0.000000</td>\n",
       "    </tr>\n",
       "    <tr>\n",
       "      <th>max</th>\n",
       "      <td>965.910612</td>\n",
       "      <td>990.070315</td>\n",
       "      <td>36.074366</td>\n",
       "      <td>1.000000</td>\n",
       "      <td>1.000000</td>\n",
       "      <td>1.000000</td>\n",
       "      <td>1.000000</td>\n",
       "      <td>1.000000</td>\n",
       "    </tr>\n",
       "  </tbody>\n",
       "</table>\n",
       "</div>"
      ],
      "text/plain": [
       "       distance_from_home  distance_from_last_transaction  \\\n",
       "count          999.000000                      996.000000   \n",
       "mean            26.876607                        5.437319   \n",
       "std             63.899697                       35.668094   \n",
       "min              0.104184                        0.001448   \n",
       "25%              3.990543                        0.306441   \n",
       "50%             10.340321                        0.958539   \n",
       "75%             25.393952                        3.137259   \n",
       "max            965.910612                      990.070315   \n",
       "\n",
       "       ratio_to_median_purchase_price  repeat_retailer   used_chip  \\\n",
       "count                      997.000000       992.000000  995.000000   \n",
       "mean                         1.655069         0.892137    0.313568   \n",
       "std                          2.351386         0.310364    0.464176   \n",
       "min                          0.016933         0.000000    0.000000   \n",
       "25%                          0.468123         1.000000    0.000000   \n",
       "50%                          0.955504         1.000000    0.000000   \n",
       "75%                          1.922025         1.000000    1.000000   \n",
       "max                         36.074366         1.000000    1.000000   \n",
       "\n",
       "       used_pin_number  online_order       fraud  \n",
       "count       997.000000    995.000000  999.000000  \n",
       "mean          0.117352      0.673367    0.079079  \n",
       "std           0.322001      0.469218    0.269997  \n",
       "min           0.000000      0.000000    0.000000  \n",
       "25%           0.000000      0.000000    0.000000  \n",
       "50%           0.000000      1.000000    0.000000  \n",
       "75%           0.000000      1.000000    0.000000  \n",
       "max           1.000000      1.000000    1.000000  "
      ]
     },
     "execution_count": 2,
     "metadata": {},
     "output_type": "execute_result"
    }
   ],
   "source": [
    "\n",
    "# Load the dataset\n",
    "transaction_data_raw = pd.read_csv('card_transdata.csv')\n",
    "\n",
    "# Display the first few rows\n",
    "transaction_data_raw.head()\n",
    "\n",
    "transaction_data_raw.shape\n",
    "\n",
    "# Display general information about the dataset\n",
    "transaction_data_raw.info()\n",
    "\n",
    "# Display summary statistics for numerical columns\n",
    "transaction_data_raw.describe()"
   ]
  },
  {
   "cell_type": "markdown",
   "id": "98fb89ea-5bd6-4f9c-910b-36feb4129048",
   "metadata": {},
   "source": [
    "Prompt: check for missing values\n",
    "\n",
    "AI: ChatGPT-4"
   ]
  },
  {
   "cell_type": "code",
   "execution_count": 3,
   "id": "ff815fd6-2f52-489a-b30e-6f698f2c3119",
   "metadata": {},
   "outputs": [
    {
     "data": {
      "text/plain": [
       "distance_from_home                0\n",
       "distance_from_last_transaction    3\n",
       "ratio_to_median_purchase_price    2\n",
       "repeat_retailer                   7\n",
       "used_chip                         4\n",
       "used_pin_number                   2\n",
       "online_order                      4\n",
       "fraud                             0\n",
       "dtype: int64"
      ]
     },
     "execution_count": 3,
     "metadata": {},
     "output_type": "execute_result"
    }
   ],
   "source": [
    "# Check for missing values in each column\n",
    "missing_values = transaction_data_raw.isnull().sum()\n",
    "\n",
    "# Display missing values\n",
    "missing_values"
   ]
  },
  {
   "cell_type": "markdown",
   "id": "6dda3cdd-ea9f-46f5-9660-8dcc3471a3a9",
   "metadata": {},
   "source": [
    "Prompt: Drop rows with null values and save it to a new variable transaction_data_cleaned and give shape \n",
    "\n",
    "AI: ChatGPT-4"
   ]
  },
  {
   "cell_type": "code",
   "execution_count": 4,
   "id": "be9369b5-13ad-4972-a18f-898b0bc0b6cc",
   "metadata": {},
   "outputs": [
    {
     "data": {
      "text/plain": [
       "(977, 8)"
      ]
     },
     "execution_count": 4,
     "metadata": {},
     "output_type": "execute_result"
    }
   ],
   "source": [
    "# Create a cleaned version of the dataset by dropping rows with null values\n",
    "transaction_data_cleaned = transaction_data_raw.dropna().copy()\n",
    "\n",
    "# Display the shape of the cleaned dataset\n",
    "transaction_data_cleaned.shape\n"
   ]
  },
  {
   "cell_type": "markdown",
   "id": "2bc24b3b-de60-4873-b0b7-0deea6acc81d",
   "metadata": {},
   "source": [
    "Prompt: show the first few lines of only the updated\n",
    "\n",
    "AI: ChatGPT-4"
   ]
  },
  {
   "cell_type": "code",
   "execution_count": 5,
   "id": "0f61f69b-6989-4d61-a382-47e90d4a6380",
   "metadata": {},
   "outputs": [
    {
     "data": {
      "text/html": [
       "<div>\n",
       "<style scoped>\n",
       "    .dataframe tbody tr th:only-of-type {\n",
       "        vertical-align: middle;\n",
       "    }\n",
       "\n",
       "    .dataframe tbody tr th {\n",
       "        vertical-align: top;\n",
       "    }\n",
       "\n",
       "    .dataframe thead th {\n",
       "        text-align: right;\n",
       "    }\n",
       "</style>\n",
       "<table border=\"1\" class=\"dataframe\">\n",
       "  <thead>\n",
       "    <tr style=\"text-align: right;\">\n",
       "      <th></th>\n",
       "      <th>distance_from_home</th>\n",
       "      <th>distance_from_last_transaction</th>\n",
       "      <th>ratio_to_median_purchase_price</th>\n",
       "      <th>repeat_retailer</th>\n",
       "      <th>used_chip</th>\n",
       "      <th>used_pin_number</th>\n",
       "      <th>online_order</th>\n",
       "      <th>fraud</th>\n",
       "    </tr>\n",
       "  </thead>\n",
       "  <tbody>\n",
       "    <tr>\n",
       "      <th>0</th>\n",
       "      <td>57.877857</td>\n",
       "      <td>0.311140</td>\n",
       "      <td>1.945940</td>\n",
       "      <td>1.0</td>\n",
       "      <td>1.0</td>\n",
       "      <td>0.0</td>\n",
       "      <td>0.0</td>\n",
       "      <td>0</td>\n",
       "    </tr>\n",
       "    <tr>\n",
       "      <th>3</th>\n",
       "      <td>2.247564</td>\n",
       "      <td>5.600044</td>\n",
       "      <td>0.362663</td>\n",
       "      <td>1.0</td>\n",
       "      <td>1.0</td>\n",
       "      <td>0.0</td>\n",
       "      <td>1.0</td>\n",
       "      <td>0</td>\n",
       "    </tr>\n",
       "    <tr>\n",
       "      <th>4</th>\n",
       "      <td>44.190936</td>\n",
       "      <td>0.566486</td>\n",
       "      <td>2.222767</td>\n",
       "      <td>1.0</td>\n",
       "      <td>1.0</td>\n",
       "      <td>0.0</td>\n",
       "      <td>1.0</td>\n",
       "      <td>0</td>\n",
       "    </tr>\n",
       "    <tr>\n",
       "      <th>5</th>\n",
       "      <td>5.586408</td>\n",
       "      <td>13.261073</td>\n",
       "      <td>0.064768</td>\n",
       "      <td>1.0</td>\n",
       "      <td>0.0</td>\n",
       "      <td>0.0</td>\n",
       "      <td>0.0</td>\n",
       "      <td>0</td>\n",
       "    </tr>\n",
       "    <tr>\n",
       "      <th>6</th>\n",
       "      <td>3.724019</td>\n",
       "      <td>0.956838</td>\n",
       "      <td>0.278465</td>\n",
       "      <td>1.0</td>\n",
       "      <td>0.0</td>\n",
       "      <td>0.0</td>\n",
       "      <td>1.0</td>\n",
       "      <td>0</td>\n",
       "    </tr>\n",
       "  </tbody>\n",
       "</table>\n",
       "</div>"
      ],
      "text/plain": [
       "   distance_from_home  distance_from_last_transaction  \\\n",
       "0           57.877857                        0.311140   \n",
       "3            2.247564                        5.600044   \n",
       "4           44.190936                        0.566486   \n",
       "5            5.586408                       13.261073   \n",
       "6            3.724019                        0.956838   \n",
       "\n",
       "   ratio_to_median_purchase_price  repeat_retailer  used_chip  \\\n",
       "0                        1.945940              1.0        1.0   \n",
       "3                        0.362663              1.0        1.0   \n",
       "4                        2.222767              1.0        1.0   \n",
       "5                        0.064768              1.0        0.0   \n",
       "6                        0.278465              1.0        0.0   \n",
       "\n",
       "   used_pin_number  online_order  fraud  \n",
       "0              0.0           0.0      0  \n",
       "3              0.0           1.0      0  \n",
       "4              0.0           1.0      0  \n",
       "5              0.0           0.0      0  \n",
       "6              0.0           1.0      0  "
      ]
     },
     "execution_count": 5,
     "metadata": {},
     "output_type": "execute_result"
    }
   ],
   "source": [
    "# Show the first few rows of the cleaned dataset\n",
    "transaction_data_cleaned.head()\n"
   ]
  },
  {
   "cell_type": "markdown",
   "id": "d49a01fa-54ec-40de-b694-fd50d733845c",
   "metadata": {},
   "source": [
    "Prompt: show the class distribution using seaborn with the x as fraud and title it Fraud Class Distribution and show plot\n",
    "\n",
    "AI: ChatGPT-4"
   ]
  },
  {
   "cell_type": "code",
   "execution_count": 6,
   "id": "205c6841-c000-4c5d-aa91-ca6ab245ef22",
   "metadata": {},
   "outputs": [
    {
     "data": {
      "image/png": "[encoded data removed]",
      "text/plain": [
       "<Figure size 432x288 with 1 Axes>"
      ]
     },
     "metadata": {
      "needs_background": "light"
     },
     "output_type": "display_data"
    }
   ],
   "source": [
    "# Visualize the class distribution using Seaborn\n",
    "sns.countplot(x='fraud', data=transaction_data_cleaned)\n",
    "\n",
    "# Title the plot\n",
    "plt.title('Fraud Class Distribution')\n",
    "\n",
    "# Show the plot\n",
    "plt.show()\n"
   ]
  },
  {
   "cell_type": "markdown",
   "id": "73505821-a5fa-469a-b0b2-bfe47ffd5969",
   "metadata": {},
   "source": [
    "Prompt: and show the used pin number using seaborn with the x as used_pin and title it Used Pin Distribution and show plot\n",
    "\n",
    "AI: ChatGPT-4"
   ]
  },
  {
   "cell_type": "code",
   "execution_count": 7,
   "id": "a5f39173-b848-415c-84d5-aed2036cffce",
   "metadata": {},
   "outputs": [
    {
     "data": {
      "image/png": "[encoded data removed]",
      "text/plain": [
       "<Figure size 432x288 with 1 Axes>"
      ]
     },
     "metadata": {
      "needs_background": "light"
     },
     "output_type": "display_data"
    }
   ],
   "source": [
    "# Visualize the used pin number distribution using Seaborn\n",
    "sns.countplot(x='used_pin_number', data=transaction_data_cleaned)\n",
    "\n",
    "# Title the plot\n",
    "plt.title('Used Pin Distribution')\n",
    "\n",
    "# Show the plot\n",
    "plt.show()\n"
   ]
  },
  {
   "cell_type": "markdown",
   "id": "12938b89-21c5-4a35-b26c-9789fe48192e",
   "metadata": {},
   "source": [
    "Prompt: next show the repeat retailer using seaborn with the x as repeat_retailer and title it Repeat Retailer Distribution and show plot\n",
    "\n",
    "AI: ChatGPT-4"
   ]
  },
  {
   "cell_type": "code",
   "execution_count": 8,
   "id": "f4a11bb8-9f29-476e-9645-627ed2a0bff3",
   "metadata": {},
   "outputs": [
    {
     "data": {
      "image/png": "[encoded data removed]",
      "text/plain": [
       "<Figure size 432x288 with 1 Axes>"
      ]
     },
     "metadata": {
      "needs_background": "light"
     },
     "output_type": "display_data"
    }
   ],
   "source": [
    "# Visualize the repeat retailer distribution using Seaborn\n",
    "sns.countplot(x='repeat_retailer', data=transaction_data_cleaned)\n",
    "\n",
    "# Title the plot\n",
    "plt.title('Repeat Retailer Distribution')\n",
    "\n",
    "# Show the plot\n",
    "plt.show()\n"
   ]
  },
  {
   "cell_type": "markdown",
   "id": "9bca477d-291f-4e19-9b09-45ff65d7c8b9",
   "metadata": {},
   "source": [
    "Prompt: show the repeat retailer distribution with x=used_chip and title Used Chip Distribution\n",
    "\n",
    "AI: ChatGPT-4"
   ]
  },
  {
   "cell_type": "code",
   "execution_count": 9,
   "id": "c43a1d6a-c0be-4f0b-b9fe-6625cf12b3fa",
   "metadata": {},
   "outputs": [
    {
     "data": {
      "image/png": "[encoded data removed]",
      "text/plain": [
       "<Figure size 432x288 with 1 Axes>"
      ]
     },
     "metadata": {
      "needs_background": "light"
     },
     "output_type": "display_data"
    }
   ],
   "source": [
    "# Visualize the used chip distribution using Seaborn\n",
    "sns.countplot(x='used_chip', data=transaction_data_cleaned)\n",
    "\n",
    "# Title the plot\n",
    "plt.title('Used Chip Distribution')\n",
    "\n",
    "# Show the plot\n",
    "plt.show()\n"
   ]
  },
  {
   "cell_type": "markdown",
   "id": "a76e72fb-303b-4ef8-8ba4-bf614e5dc77c",
   "metadata": {},
   "source": [
    "Prompt: show the number of online orders distribution with x=online_order and title Number of Online Orders\n",
    "\n",
    "AI: ChatGPT-4"
   ]
  },
  {
   "cell_type": "code",
   "execution_count": 10,
   "id": "82e9e379-10bb-43a8-8dd5-4f2824b4acdd",
   "metadata": {},
   "outputs": [
    {
     "data": {
      "image/png": "[encoded data removed]",
      "text/plain": [
       "<Figure size 432x288 with 1 Axes>"
      ]
     },
     "metadata": {
      "needs_background": "light"
     },
     "output_type": "display_data"
    }
   ],
   "source": [
    "# Visualize the number of online orders using Seaborn\n",
    "sns.countplot(x='online_order', data=transaction_data_cleaned)\n",
    "\n",
    "# Title the plot\n",
    "plt.title('Number of Online Orders')\n",
    "\n",
    "# Show the plot\n",
    "plt.show()\n"
   ]
  },
  {
   "cell_type": "markdown",
   "id": "4fa8c9e0-aac5-4bfc-a095-06453c3ef5a9",
   "metadata": {},
   "source": [
    "Prompt: then show a histogram with 30 bins title Distance From Last Transaction Distribution, that shows the distance from the last transaction\n",
    "\n",
    "AI: ChatGPT-4"
   ]
  },
  {
   "cell_type": "code",
   "execution_count": 11,
   "id": "318701fe-8bea-44fb-9227-b80485e5dc16",
   "metadata": {},
   "outputs": [
    {
     "data": {
      "image/png": "[encoded data removed]",
      "text/plain": [
       "<Figure size 432x288 with 1 Axes>"
      ]
     },
     "metadata": {
      "needs_background": "light"
     },
     "output_type": "display_data"
    }
   ],
   "source": [
    "# Visualize the distribution of distance_from_last_transaction using a histogram\n",
    "plt.hist(transaction_data_cleaned['distance_from_last_transaction'], bins=30)\n",
    "\n",
    "# Title the plot\n",
    "plt.title('Distance From Last Transaction Distribution')\n",
    "\n",
    "# Show the plot\n",
    "plt.show()\n"
   ]
  },
  {
   "cell_type": "markdown",
   "id": "d9236aab-f77a-4d57-9346-654036d0b472",
   "metadata": {},
   "source": [
    "Prompt: then show a histogram with 30 bins title Ratio to Median Purchase Price Distribution, that shows the ratio of the median pruchase prices \n",
    "\n",
    "AI: ChatGPT-4"
   ]
  },
  {
   "cell_type": "code",
   "execution_count": 12,
   "id": "9dd847cb-cd06-4465-b100-a33d6b1ad83a",
   "metadata": {},
   "outputs": [
    {
     "data": {
      "image/png": "[encoded data removed]",
      "text/plain": [
       "<Figure size 432x288 with 1 Axes>"
      ]
     },
     "metadata": {
      "needs_background": "light"
     },
     "output_type": "display_data"
    }
   ],
   "source": [
    "# Visualize the distribution of ratio_to_median_purchase_price using a histogram\n",
    "plt.hist(transaction_data_cleaned['ratio_to_median_purchase_price'], bins=30)\n",
    "\n",
    "# Title the plot\n",
    "plt.title('Ratio to Median Purchase Price Distribution')\n",
    "\n",
    "# Show the plot\n",
    "plt.show()\n"
   ]
  },
  {
   "cell_type": "markdown",
   "id": "a00114f8-7750-482c-9571-702e82616fb2",
   "metadata": {},
   "source": [
    "Prompt: then create a histogram that shows the distance from the homes and title Distance from Home\n",
    "\n",
    "AI: ChatGPT-4"
   ]
  },
  {
   "cell_type": "code",
   "execution_count": 13,
   "id": "230ff8ee-2b0f-46c2-9cf2-c1062e128a21",
   "metadata": {},
   "outputs": [
    {
     "data": {
      "image/png": "[encoded data removed]",
      "text/plain": [
       "<Figure size 432x288 with 1 Axes>"
      ]
     },
     "metadata": {
      "needs_background": "light"
     },
     "output_type": "display_data"
    }
   ],
   "source": [
    "# Display the histogram for distance_from_home\n",
    "sns.histplot(transaction_data_cleaned['distance_from_home'], bins=30, kde=False)\n",
    "\n",
    "# Set the title\n",
    "plt.title('Distance from Home')\n",
    "\n",
    "# Display the plot\n",
    "plt.show()\n"
   ]
  },
  {
   "cell_type": "markdown",
   "id": "79297ca7-dcc6-48d4-8400-d7138150c6d3",
   "metadata": {},
   "source": [
    "Prompt: create a countplot that checks for Transactions with PIN vs Fraudulent Transactions and puts hue on fraud and puts x on used_pin_number and makes the colors of the graph green and red and puts a box to describe the colors, red being Fraudulent and green being Non-Fraudulent with the title of that box being Fraud\n",
    "\n",
    "AI: ChatGPT-4"
   ]
  },
  {
   "cell_type": "code",
   "execution_count": 14,
   "id": "20ed288c-634a-4e70-95d0-3bea0ff84437",
   "metadata": {},
   "outputs": [
    {
     "data": {
      "image/png": "[encoded data removed]",
      "text/plain": [
       "<Figure size 360x216 with 1 Axes>"
      ]
     },
     "metadata": {
      "needs_background": "light"
     },
     "output_type": "display_data"
    }
   ],
   "source": [
    "# Group by used_pin_number and calculate the percentage of fraudulent transactions\n",
    "fraud_percentage_by_pin = transaction_data_cleaned.groupby('used_pin_number')['fraud'].mean() * 100\n",
    "\n",
    "# Create a bar plot\n",
    "fraud_percentage_by_pin.plot(kind='bar', color=['green', 'red'], figsize=(5, 3))\n",
    "\n",
    "# Set the title and labels\n",
    "plt.title('Percentage of Fraudulent Transactions with and without PIN')\n",
    "plt.xlabel('Used PIN (0 = No, 1 = Yes)')\n",
    "plt.ylabel('Percentage of Fraudulent Transactions')\n",
    "\n",
    "# Display the plot\n",
    "plt.show()\n",
    "\n"
   ]
  },
  {
   "cell_type": "markdown",
   "id": "0f711e15-080a-4149-9edc-ca60cc8d3270",
   "metadata": {},
   "source": [
    "Prompt: create a percentage plot to find the percentage of fraudulent transactions that occurred with and without a pin and group it by used_pin_number and make it a stacked graph\n",
    "\n",
    "AI: ChatGPT-4"
   ]
  },
  {
   "cell_type": "code",
   "execution_count": 15,
   "id": "1087a362-dd6f-488b-87e7-6ea09f5ead49",
   "metadata": {},
   "outputs": [
    {
     "data": {
      "image/png": "[encoded data removed]",
      "text/plain": [
       "<Figure size 360x216 with 1 Axes>"
      ]
     },
     "metadata": {
      "needs_background": "light"
     },
     "output_type": "display_data"
    }
   ],
   "source": [
    "# Group by used_pin_number and calculate the percentage of fraudulent transactions\n",
    "df_pin_fraud_percentage = transaction_data_cleaned.groupby('used_pin_number')['fraud'].value_counts(normalize=True).unstack() * 100\n",
    "\n",
    "# Create a stacked bar plot to show the percentage of fraudulent transactions\n",
    "df_pin_fraud_percentage.plot(kind='bar', stacked=True, color=['green', 'red'], figsize=(5, 3))\n",
    "\n",
    "# Set the title and labels\n",
    "plt.title('Percentage of Fraudulent Transactions with and without PIN')\n",
    "plt.xlabel('Used PIN (0 = No, 1 = Yes)')\n",
    "plt.ylabel('Percentage')\n",
    "\n",
    "# Customize the legend\n",
    "plt.legend(title='Fraud', labels=['Non-Fraudulent', 'Fraudulent'])\n",
    "\n",
    "# Display the plot\n",
    "plt.show()\n",
    "\n"
   ]
  },
  {
   "cell_type": "markdown",
   "id": "335bac24-feb5-42ee-b00b-72cebb8f133c",
   "metadata": {},
   "source": [
    "#1 Prompt: create a count plot that shows transactions whether they were fraudulent or not and whether that transaction was from the same retailer or not with x as repeat_retailer\n",
    "\n",
    "#2 Prompt: create a percentage plot that shows fradualnt transactions when that transaction occurred form the same retailer or not\n",
    "\n",
    "AI: ChatGPT-4"
   ]
  },
  {
   "cell_type": "code",
   "execution_count": 16,
   "id": "e3104fa7-5036-4e88-94cc-23238ec6326d",
   "metadata": {},
   "outputs": [
    {
     "data": {
      "image/png": "[encoded data removed]",
      "text/plain": [
       "<Figure size 432x288 with 1 Axes>"
      ]
     },
     "metadata": {
      "needs_background": "light"
     },
     "output_type": "display_data"
    },
    {
     "data": {
      "image/png": "[encoded data removed]",
      "text/plain": [
       "<Figure size 360x216 with 1 Axes>"
      ]
     },
     "metadata": {
      "needs_background": "light"
     },
     "output_type": "display_data"
    }
   ],
   "source": [
    "#1\n",
    "# Create a countplot showing transactions by repeat_retailer and fraud status\n",
    "sns.countplot(x='repeat_retailer', hue='fraud', data=transaction_data_cleaned, palette={0: 'green', 1: 'red'})\n",
    "\n",
    "# Set the title and labels\n",
    "plt.title('Transactions by Repeat Retailer and Fraud Status')\n",
    "plt.xlabel('Repeat Retailer (0 = No, 1 = Yes)')\n",
    "plt.ylabel('Transaction Count')\n",
    "\n",
    "# Customize the legend\n",
    "plt.legend(title='Fraud', labels=['Non-Fraudulent', 'Fraudulent'])\n",
    "\n",
    "# Display the plot\n",
    "plt.show()\n",
    "\n",
    "\n",
    "\n",
    "#2\n",
    "# Group by repeat_retailer and calculate the percentage of fraudulent transactions\n",
    "fraud_percentage_by_retailer = transaction_data_cleaned.groupby('repeat_retailer')['fraud'].value_counts(normalize=True).unstack() * 100\n",
    "\n",
    "# Create a stacked bar plot to show the percentage of fraudulent transactions\n",
    "fraud_percentage_by_retailer.plot(kind='bar', stacked=True, color=['green', 'red'], figsize=(5, 3))\n",
    "\n",
    "# Set the title and labels\n",
    "plt.title('Percentage of Fraudulent Transactions by Repeat Retailer')\n",
    "plt.xlabel('Repeat Retailer (0 = No, 1 = Yes)')\n",
    "plt.ylabel('Percentage')\n",
    "\n",
    "# Customize the legend\n",
    "plt.legend(title='Fraud', labels=['Non-Fraudulent', 'Fraudulent'])\n",
    "\n",
    "# Display the plot\n",
    "plt.show()"
   ]
  },
  {
   "cell_type": "markdown",
   "id": "f222d053-f40e-450a-b2e8-30bd6ac8e2be",
   "metadata": {},
   "source": [
    "Prompt: create a count plot and a separate percentage plot to show transactions that are fraudulent or not and then group it by if a chip was used\n",
    "\n",
    "AI: ChatGPT-4"
   ]
  },
  {
   "cell_type": "code",
   "execution_count": 17,
   "id": "4eae2867-46a0-4175-bf12-c5c4af23b23b",
   "metadata": {},
   "outputs": [
    {
     "data": {
      "image/png": "[encoded data removed]",
      "text/plain": [
       "<Figure size 360x216 with 1 Axes>"
      ]
     },
     "metadata": {
      "needs_background": "light"
     },
     "output_type": "display_data"
    },
    {
     "data": {
      "image/png": "[encoded data removed]",
      "text/plain": [
       "<Figure size 360x216 with 1 Axes>"
      ]
     },
     "metadata": {
      "needs_background": "light"
     },
     "output_type": "display_data"
    }
   ],
   "source": [
    "#1\n",
    "# Create a count plot for fraudulent vs non-fraudulent transactions grouped by chip usage\n",
    "plt.figure(figsize=(5, 3))\n",
    "sns.countplot(data=transaction_data_cleaned, x='used_chip', hue='fraud', palette=['green', 'red'])\n",
    "\n",
    "# Set the title and labels\n",
    "plt.title('Transactions with Chip vs Fraudulent Transactions')\n",
    "plt.xlabel('Used Chip (0 = No, 1 = Yes)')\n",
    "plt.ylabel('Count')\n",
    "\n",
    "# Customize the legend\n",
    "plt.legend(title='Fraud', labels=['Non-Fraudulent', 'Fraudulent'])\n",
    "\n",
    "# Display the plot\n",
    "plt.show()\n",
    "\n",
    "#2\n",
    "# Group by used_chip and calculate the percentage of fraudulent transactions\n",
    "df_chip_fraud = transaction_data_cleaned.groupby('used_chip')['fraud'].value_counts(normalize=True).unstack() * 100\n",
    "\n",
    "# Create a stacked bar plot to show the percentage of fraudulent transactions\n",
    "df_chip_fraud.plot(kind='bar', stacked=True, color=['green', 'red'], figsize=(5, 3))\n",
    "\n",
    "# Set the title and labels\n",
    "plt.title('Percentage of Fraudulent Transactions with Chip Usage')\n",
    "plt.xlabel('Used Chip (0 = No, 1 = Yes)')\n",
    "plt.ylabel('Percentage')\n",
    "\n",
    "# Customize the legend\n",
    "plt.legend(title='Fraud', labels=['Non-Fraudulent', 'Fraudulent'])\n",
    "\n",
    "# Display the plot\n",
    "plt.show()\n"
   ]
  },
  {
   "cell_type": "markdown",
   "id": "6f70a7bc-9c55-4431-9e71-c2225ca3ca7e",
   "metadata": {},
   "source": [
    "Prompt: create a count plot that shows the number of transactions that were fraudulent compared to non fraudulent orders that were when it was an online order or if they were not and give it title Transactions with Online Order vs Fraudulent Transactions then a percentage plot that shows what percent were bad orders when they were online or not and give it title Percentage of Fraudulent Transactions with Online Order\n",
    "\n",
    "AI: ChatGPT-4"
   ]
  },
  {
   "cell_type": "code",
   "execution_count": 18,
   "id": "d330244c-3969-4dae-913d-bd017a23bc0b",
   "metadata": {},
   "outputs": [
    {
     "data": {
      "image/png": "[encoded data removed]",
      "text/plain": [
       "<Figure size 360x216 with 1 Axes>"
      ]
     },
     "metadata": {
      "needs_background": "light"
     },
     "output_type": "display_data"
    },
    {
     "data": {
      "image/png": "[encoded data removed]",
      "text/plain": [
       "<Figure size 360x216 with 1 Axes>"
      ]
     },
     "metadata": {
      "needs_background": "light"
     },
     "output_type": "display_data"
    }
   ],
   "source": [
    "#1\n",
    "# Create a count plot for fraudulent vs non-fraudulent transactions grouped by online order status\n",
    "plt.figure(figsize=(5, 3))\n",
    "sns.countplot(data=transaction_data_cleaned, x='online_order', hue='fraud', palette=['green', 'red'])\n",
    "\n",
    "# Set the title and labels\n",
    "plt.title('Transactions with Online Order vs Fraudulent Transactions')\n",
    "plt.xlabel('Online Order (0 = No, 1 = Yes)')\n",
    "plt.ylabel('Count')\n",
    "\n",
    "# Customize the legend\n",
    "plt.legend(title='Fraud', labels=['Non-Fraudulent', 'Fraudulent'])\n",
    "\n",
    "# Display the plot\n",
    "plt.show()\n",
    "\n",
    "\n",
    "#2\n",
    "# Group by online_order and calculate the percentage of fraudulent transactions\n",
    "df_online_fraud = transaction_data_cleaned.groupby('online_order')['fraud'].value_counts(normalize=True).unstack() * 100\n",
    "\n",
    "# Create a stacked bar plot to show the percentage of fraudulent transactions\n",
    "df_online_fraud.plot(kind='bar', stacked=True, color=['green', 'red'], figsize=(5, 3))\n",
    "\n",
    "# Set the title and labels\n",
    "plt.title('Percentage of Fraudulent Transactions with Online Order')\n",
    "plt.xlabel('Online Order (0 = No, 1 = Yes)')\n",
    "plt.ylabel('Percentage')\n",
    "\n",
    "# Customize the legend\n",
    "plt.legend(title='Fraud', labels=['Non-Fraudulent', 'Fraudulent'])\n",
    "\n",
    "# Display the plot\n",
    "plt.show()\n"
   ]
  },
  {
   "cell_type": "markdown",
   "id": "8bc559b9-db31-4b8e-912c-c1ba5ce79843",
   "metadata": {},
   "source": [
    "Prompt: now create a scatterplot that shows fraudulent and non-fraudulent transactions with a title Fraudulent vs Non-Fraudulent Transactions: Distance from Home vs Ratio to Median Purchase Price\n",
    "\n",
    "AI: ChatGPT-4"
   ]
  },
  {
   "cell_type": "code",
   "execution_count": 19,
   "id": "8fb6b9cb-d555-4591-8ff9-38f716309965",
   "metadata": {},
   "outputs": [
    {
     "data": {
      "image/png": "[encoded data removed]",
      "text/plain": [
       "<Figure size 504x360 with 1 Axes>"
      ]
     },
     "metadata": {
      "needs_background": "light"
     },
     "output_type": "display_data"
    }
   ],
   "source": [
    "# Create a scatterplot for fraudulent vs non-fraudulent transactions\n",
    "plt.figure(figsize=(7, 5))\n",
    "\n",
    "# Scatter plot with color indicating fraud status\n",
    "sns.scatterplot(data=transaction_data_cleaned, x='distance_from_home', y='ratio_to_median_purchase_price', hue='fraud', \n",
    "                palette={0: 'green', 1: 'red'}, legend='full')\n",
    "\n",
    "# Set the title and labels\n",
    "plt.title('Fraudulent vs Non-Fraudulent Transactions: Distance from Home vs Ratio to Median Purchase Price')\n",
    "plt.xlabel('Distance from Home')\n",
    "plt.ylabel('Ratio to Median Purchase Price')\n",
    "\n",
    "# Display the plot\n",
    "plt.show()"
   ]
  },
  {
   "cell_type": "markdown",
   "id": "4ee049cd-6e4d-4602-892b-06e9af331b66",
   "metadata": {},
   "source": [
    "Prompt: Create a scatter plot to show the breakdown of fraudulent and non-fraudulent transactions specifically when it comes distance from homes with a title Fraudulent vs Non-Fraudulent Transactions: Distance from Home vs Distance from Last \n",
    "\n",
    "AI: ChatGPT-4"
   ]
  },
  {
   "cell_type": "code",
   "execution_count": 20,
   "id": "d0bf41f8-2dd8-4ef7-b7ab-73f79dc725df",
   "metadata": {},
   "outputs": [
    {
     "data": {
      "image/png": "[encoded data removed]",
      "text/plain": [
       "<Figure size 720x432 with 1 Axes>"
      ]
     },
     "metadata": {
      "needs_background": "light"
     },
     "output_type": "display_data"
    }
   ],
   "source": [
    "# Create a scatter plot to show the breakdown of fraudulent and non-fraudulent transactions\n",
    "plt.figure(figsize=(10, 6))\n",
    "scatter = sns.scatterplot(\n",
    "    data=transaction_data_cleaned,\n",
    "    x='distance_from_home',\n",
    "    y='distance_from_last_transaction',\n",
    "    hue='fraud',\n",
    "    palette={0: 'green', 1: 'red'},\n",
    ")\n",
    "plt.title('Fraudulent vs Non-Fraudulent Transactions: Distance from Home vs Distance from Last Transaction')\n",
    "plt.xlabel('Distance from Home')\n",
    "plt.ylabel('Distance from Last Transaction')\n",
    "plt.show()"
   ]
  },
  {
   "cell_type": "markdown",
   "id": "647d9da9-c9db-4f79-8d94-ab98bf876649",
   "metadata": {},
   "source": [
    "Prompt: now create a scatterplot that shows fraudulent and non-fraudulent transactions relative to the distance from the previous transaction compared to the median purchase to price \n",
    "\n",
    "AI: ChatGPT-4"
   ]
  },
  {
   "cell_type": "code",
   "execution_count": 21,
   "id": "0f0d3155-9853-4b08-b8c1-8f7f9db085ca",
   "metadata": {},
   "outputs": [
    {
     "data": {
      "image/png": "[encoded data removed]",
      "text/plain": [
       "<Figure size 504x360 with 1 Axes>"
      ]
     },
     "metadata": {
      "needs_background": "light"
     },
     "output_type": "display_data"
    }
   ],
   "source": [
    "# Create a scatterplot for fraudulent vs non-fraudulent transactions\n",
    "plt.figure(figsize=(7, 5))\n",
    "\n",
    "# Scatter plot with color indicating fraud status\n",
    "sns.scatterplot(data=transaction_data_cleaned, \n",
    "                x='distance_from_last_transaction', \n",
    "                y='ratio_to_median_purchase_price', \n",
    "                hue='fraud', \n",
    "                palette={0: 'green', 1: 'red'}, \n",
    "                edgecolor='black')\n",
    "\n",
    "# Set the title and labels\n",
    "plt.title('Fraudulent vs Non-Fraudulent Transactions: Distance from Last Transaction vs Ratio to Median Purchase Price')\n",
    "plt.xlabel('Distance from Last Transaction')\n",
    "plt.ylabel('Ratio to Median Purchase Price')\n",
    "\n",
    "# Display the plot\n",
    "plt.show()\n"
   ]
  },
  {
   "cell_type": "markdown",
   "id": "69661104-137a-4e8c-a00e-9eabd768bd34",
   "metadata": {},
   "source": [
    "Prompt: now create features and target variables by dropping fraud and splitting the data into training and testing sets with a random state of 42 and a test size of .2 and stratified based on the target variable and print out the training and testing  \n",
    "\n",
    "AI: ChatGPT-4"
   ]
  },
  {
   "cell_type": "code",
   "execution_count": 22,
   "id": "3e6dbcd5-5e22-406e-88db-9c1b068c3543",
   "metadata": {},
   "outputs": [
    {
     "data": {
      "text/html": [
       "<div>\n",
       "<style scoped>\n",
       "    .dataframe tbody tr th:only-of-type {\n",
       "        vertical-align: middle;\n",
       "    }\n",
       "\n",
       "    .dataframe tbody tr th {\n",
       "        vertical-align: top;\n",
       "    }\n",
       "\n",
       "    .dataframe thead th {\n",
       "        text-align: right;\n",
       "    }\n",
       "</style>\n",
       "<table border=\"1\" class=\"dataframe\">\n",
       "  <thead>\n",
       "    <tr style=\"text-align: right;\">\n",
       "      <th></th>\n",
       "      <th>distance_from_home</th>\n",
       "      <th>distance_from_last_transaction</th>\n",
       "      <th>ratio_to_median_purchase_price</th>\n",
       "      <th>repeat_retailer</th>\n",
       "      <th>used_chip</th>\n",
       "      <th>used_pin_number</th>\n",
       "      <th>online_order</th>\n",
       "    </tr>\n",
       "  </thead>\n",
       "  <tbody>\n",
       "    <tr>\n",
       "      <th>954</th>\n",
       "      <td>39.904167</td>\n",
       "      <td>0.367448</td>\n",
       "      <td>0.260833</td>\n",
       "      <td>1.0</td>\n",
       "      <td>1.0</td>\n",
       "      <td>0.0</td>\n",
       "      <td>1.0</td>\n",
       "    </tr>\n",
       "    <tr>\n",
       "      <th>143</th>\n",
       "      <td>2.660649</td>\n",
       "      <td>0.657162</td>\n",
       "      <td>3.837860</td>\n",
       "      <td>1.0</td>\n",
       "      <td>0.0</td>\n",
       "      <td>0.0</td>\n",
       "      <td>1.0</td>\n",
       "    </tr>\n",
       "    <tr>\n",
       "      <th>643</th>\n",
       "      <td>48.902727</td>\n",
       "      <td>0.205816</td>\n",
       "      <td>1.307000</td>\n",
       "      <td>1.0</td>\n",
       "      <td>0.0</td>\n",
       "      <td>1.0</td>\n",
       "      <td>0.0</td>\n",
       "    </tr>\n",
       "    <tr>\n",
       "      <th>15</th>\n",
       "      <td>179.665148</td>\n",
       "      <td>0.120920</td>\n",
       "      <td>0.535640</td>\n",
       "      <td>1.0</td>\n",
       "      <td>1.0</td>\n",
       "      <td>1.0</td>\n",
       "      <td>1.0</td>\n",
       "    </tr>\n",
       "    <tr>\n",
       "      <th>793</th>\n",
       "      <td>676.702348</td>\n",
       "      <td>1.209733</td>\n",
       "      <td>6.948586</td>\n",
       "      <td>1.0</td>\n",
       "      <td>0.0</td>\n",
       "      <td>0.0</td>\n",
       "      <td>1.0</td>\n",
       "    </tr>\n",
       "    <tr>\n",
       "      <th>...</th>\n",
       "      <td>...</td>\n",
       "      <td>...</td>\n",
       "      <td>...</td>\n",
       "      <td>...</td>\n",
       "      <td>...</td>\n",
       "      <td>...</td>\n",
       "      <td>...</td>\n",
       "    </tr>\n",
       "    <tr>\n",
       "      <th>685</th>\n",
       "      <td>5.916343</td>\n",
       "      <td>5.099247</td>\n",
       "      <td>0.419779</td>\n",
       "      <td>1.0</td>\n",
       "      <td>0.0</td>\n",
       "      <td>0.0</td>\n",
       "      <td>0.0</td>\n",
       "    </tr>\n",
       "    <tr>\n",
       "      <th>722</th>\n",
       "      <td>23.517527</td>\n",
       "      <td>3.513485</td>\n",
       "      <td>0.241444</td>\n",
       "      <td>1.0</td>\n",
       "      <td>0.0</td>\n",
       "      <td>0.0</td>\n",
       "      <td>0.0</td>\n",
       "    </tr>\n",
       "    <tr>\n",
       "      <th>173</th>\n",
       "      <td>3.273426</td>\n",
       "      <td>1.056948</td>\n",
       "      <td>1.694281</td>\n",
       "      <td>1.0</td>\n",
       "      <td>0.0</td>\n",
       "      <td>0.0</td>\n",
       "      <td>1.0</td>\n",
       "    </tr>\n",
       "    <tr>\n",
       "      <th>499</th>\n",
       "      <td>7.387696</td>\n",
       "      <td>1.598827</td>\n",
       "      <td>0.847218</td>\n",
       "      <td>1.0</td>\n",
       "      <td>0.0</td>\n",
       "      <td>0.0</td>\n",
       "      <td>1.0</td>\n",
       "    </tr>\n",
       "    <tr>\n",
       "      <th>593</th>\n",
       "      <td>5.630854</td>\n",
       "      <td>1.626769</td>\n",
       "      <td>1.645281</td>\n",
       "      <td>1.0</td>\n",
       "      <td>0.0</td>\n",
       "      <td>0.0</td>\n",
       "      <td>1.0</td>\n",
       "    </tr>\n",
       "  </tbody>\n",
       "</table>\n",
       "<p>781 rows × 7 columns</p>\n",
       "</div>"
      ],
      "text/plain": [
       "     distance_from_home  distance_from_last_transaction  \\\n",
       "954           39.904167                        0.367448   \n",
       "143            2.660649                        0.657162   \n",
       "643           48.902727                        0.205816   \n",
       "15           179.665148                        0.120920   \n",
       "793          676.702348                        1.209733   \n",
       "..                  ...                             ...   \n",
       "685            5.916343                        5.099247   \n",
       "722           23.517527                        3.513485   \n",
       "173            3.273426                        1.056948   \n",
       "499            7.387696                        1.598827   \n",
       "593            5.630854                        1.626769   \n",
       "\n",
       "     ratio_to_median_purchase_price  repeat_retailer  used_chip  \\\n",
       "954                        0.260833              1.0        1.0   \n",
       "143                        3.837860              1.0        0.0   \n",
       "643                        1.307000              1.0        0.0   \n",
       "15                         0.535640              1.0        1.0   \n",
       "793                        6.948586              1.0        0.0   \n",
       "..                              ...              ...        ...   \n",
       "685                        0.419779              1.0        0.0   \n",
       "722                        0.241444              1.0        0.0   \n",
       "173                        1.694281              1.0        0.0   \n",
       "499                        0.847218              1.0        0.0   \n",
       "593                        1.645281              1.0        0.0   \n",
       "\n",
       "     used_pin_number  online_order  \n",
       "954              0.0           1.0  \n",
       "143              0.0           1.0  \n",
       "643              1.0           0.0  \n",
       "15               1.0           1.0  \n",
       "793              0.0           1.0  \n",
       "..               ...           ...  \n",
       "685              0.0           0.0  \n",
       "722              0.0           0.0  \n",
       "173              0.0           1.0  \n",
       "499              0.0           1.0  \n",
       "593              0.0           1.0  \n",
       "\n",
       "[781 rows x 7 columns]"
      ]
     },
     "execution_count": 22,
     "metadata": {},
     "output_type": "execute_result"
    }
   ],
   "source": [
    "from sklearn.model_selection import train_test_split\n",
    "\n",
    "# Create features (X) by dropping the 'fraud' column and setting the target variable (y) to 'fraud'\n",
    "X = transaction_data_cleaned.drop(columns=['fraud'])\n",
    "y = transaction_data_cleaned['fraud']\n",
    "\n",
    "# Split the data into training and testing sets with stratification based on the target variable\n",
    "X_train, X_test, y_train, y_test = train_test_split(X, y, test_size=0.2, random_state=42, stratify=y)\n",
    "\n",
    "X_train"
   ]
  },
  {
   "cell_type": "code",
   "execution_count": 23,
   "id": "dc166df6-7ec5-4b96-ad80-86702893b927",
   "metadata": {},
   "outputs": [
    {
     "data": {
      "text/plain": [
       "954    0\n",
       "143    0\n",
       "643    0\n",
       "15     0\n",
       "793    1\n",
       "      ..\n",
       "685    0\n",
       "722    0\n",
       "173    0\n",
       "499    0\n",
       "593    0\n",
       "Name: fraud, Length: 781, dtype: int64"
      ]
     },
     "execution_count": 23,
     "metadata": {},
     "output_type": "execute_result"
    }
   ],
   "source": [
    "y_train"
   ]
  },
  {
   "cell_type": "code",
   "execution_count": 24,
   "id": "a420a1a7-fd47-4e4d-9aaa-a5ae535d2d80",
   "metadata": {},
   "outputs": [
    {
     "data": {
      "text/html": [
       "<div>\n",
       "<style scoped>\n",
       "    .dataframe tbody tr th:only-of-type {\n",
       "        vertical-align: middle;\n",
       "    }\n",
       "\n",
       "    .dataframe tbody tr th {\n",
       "        vertical-align: top;\n",
       "    }\n",
       "\n",
       "    .dataframe thead th {\n",
       "        text-align: right;\n",
       "    }\n",
       "</style>\n",
       "<table border=\"1\" class=\"dataframe\">\n",
       "  <thead>\n",
       "    <tr style=\"text-align: right;\">\n",
       "      <th></th>\n",
       "      <th>distance_from_home</th>\n",
       "      <th>distance_from_last_transaction</th>\n",
       "      <th>ratio_to_median_purchase_price</th>\n",
       "      <th>repeat_retailer</th>\n",
       "      <th>used_chip</th>\n",
       "      <th>used_pin_number</th>\n",
       "      <th>online_order</th>\n",
       "    </tr>\n",
       "  </thead>\n",
       "  <tbody>\n",
       "    <tr>\n",
       "      <th>782</th>\n",
       "      <td>0.701100</td>\n",
       "      <td>0.540487</td>\n",
       "      <td>1.754568</td>\n",
       "      <td>0.0</td>\n",
       "      <td>0.0</td>\n",
       "      <td>0.0</td>\n",
       "      <td>1.0</td>\n",
       "    </tr>\n",
       "    <tr>\n",
       "      <th>51</th>\n",
       "      <td>43.281314</td>\n",
       "      <td>3.367793</td>\n",
       "      <td>0.676058</td>\n",
       "      <td>1.0</td>\n",
       "      <td>1.0</td>\n",
       "      <td>1.0</td>\n",
       "      <td>1.0</td>\n",
       "    </tr>\n",
       "    <tr>\n",
       "      <th>197</th>\n",
       "      <td>4.586564</td>\n",
       "      <td>3.365070</td>\n",
       "      <td>2.454288</td>\n",
       "      <td>1.0</td>\n",
       "      <td>0.0</td>\n",
       "      <td>0.0</td>\n",
       "      <td>0.0</td>\n",
       "    </tr>\n",
       "    <tr>\n",
       "      <th>550</th>\n",
       "      <td>4.403263</td>\n",
       "      <td>0.173726</td>\n",
       "      <td>0.641169</td>\n",
       "      <td>1.0</td>\n",
       "      <td>0.0</td>\n",
       "      <td>0.0</td>\n",
       "      <td>0.0</td>\n",
       "    </tr>\n",
       "    <tr>\n",
       "      <th>412</th>\n",
       "      <td>965.910612</td>\n",
       "      <td>0.023604</td>\n",
       "      <td>0.257908</td>\n",
       "      <td>1.0</td>\n",
       "      <td>0.0</td>\n",
       "      <td>0.0</td>\n",
       "      <td>1.0</td>\n",
       "    </tr>\n",
       "    <tr>\n",
       "      <th>...</th>\n",
       "      <td>...</td>\n",
       "      <td>...</td>\n",
       "      <td>...</td>\n",
       "      <td>...</td>\n",
       "      <td>...</td>\n",
       "      <td>...</td>\n",
       "      <td>...</td>\n",
       "    </tr>\n",
       "    <tr>\n",
       "      <th>436</th>\n",
       "      <td>6.498016</td>\n",
       "      <td>0.228995</td>\n",
       "      <td>0.171750</td>\n",
       "      <td>1.0</td>\n",
       "      <td>0.0</td>\n",
       "      <td>0.0</td>\n",
       "      <td>0.0</td>\n",
       "    </tr>\n",
       "    <tr>\n",
       "      <th>868</th>\n",
       "      <td>9.258344</td>\n",
       "      <td>0.633609</td>\n",
       "      <td>0.066744</td>\n",
       "      <td>1.0</td>\n",
       "      <td>1.0</td>\n",
       "      <td>0.0</td>\n",
       "      <td>1.0</td>\n",
       "    </tr>\n",
       "    <tr>\n",
       "      <th>65</th>\n",
       "      <td>17.797888</td>\n",
       "      <td>1.395508</td>\n",
       "      <td>2.880479</td>\n",
       "      <td>1.0</td>\n",
       "      <td>1.0</td>\n",
       "      <td>0.0</td>\n",
       "      <td>0.0</td>\n",
       "    </tr>\n",
       "    <tr>\n",
       "      <th>743</th>\n",
       "      <td>5.599947</td>\n",
       "      <td>2.477098</td>\n",
       "      <td>5.956153</td>\n",
       "      <td>1.0</td>\n",
       "      <td>0.0</td>\n",
       "      <td>0.0</td>\n",
       "      <td>0.0</td>\n",
       "    </tr>\n",
       "    <tr>\n",
       "      <th>390</th>\n",
       "      <td>12.391271</td>\n",
       "      <td>1.658017</td>\n",
       "      <td>0.380575</td>\n",
       "      <td>1.0</td>\n",
       "      <td>0.0</td>\n",
       "      <td>0.0</td>\n",
       "      <td>1.0</td>\n",
       "    </tr>\n",
       "  </tbody>\n",
       "</table>\n",
       "<p>196 rows × 7 columns</p>\n",
       "</div>"
      ],
      "text/plain": [
       "     distance_from_home  distance_from_last_transaction  \\\n",
       "782            0.701100                        0.540487   \n",
       "51            43.281314                        3.367793   \n",
       "197            4.586564                        3.365070   \n",
       "550            4.403263                        0.173726   \n",
       "412          965.910612                        0.023604   \n",
       "..                  ...                             ...   \n",
       "436            6.498016                        0.228995   \n",
       "868            9.258344                        0.633609   \n",
       "65            17.797888                        1.395508   \n",
       "743            5.599947                        2.477098   \n",
       "390           12.391271                        1.658017   \n",
       "\n",
       "     ratio_to_median_purchase_price  repeat_retailer  used_chip  \\\n",
       "782                        1.754568              0.0        0.0   \n",
       "51                         0.676058              1.0        1.0   \n",
       "197                        2.454288              1.0        0.0   \n",
       "550                        0.641169              1.0        0.0   \n",
       "412                        0.257908              1.0        0.0   \n",
       "..                              ...              ...        ...   \n",
       "436                        0.171750              1.0        0.0   \n",
       "868                        0.066744              1.0        1.0   \n",
       "65                         2.880479              1.0        1.0   \n",
       "743                        5.956153              1.0        0.0   \n",
       "390                        0.380575              1.0        0.0   \n",
       "\n",
       "     used_pin_number  online_order  \n",
       "782              0.0           1.0  \n",
       "51               1.0           1.0  \n",
       "197              0.0           0.0  \n",
       "550              0.0           0.0  \n",
       "412              0.0           1.0  \n",
       "..               ...           ...  \n",
       "436              0.0           0.0  \n",
       "868              0.0           1.0  \n",
       "65               0.0           0.0  \n",
       "743              0.0           0.0  \n",
       "390              0.0           1.0  \n",
       "\n",
       "[196 rows x 7 columns]"
      ]
     },
     "execution_count": 24,
     "metadata": {},
     "output_type": "execute_result"
    }
   ],
   "source": [
    "X_test"
   ]
  },
  {
   "cell_type": "code",
   "execution_count": 25,
   "id": "efabea7b-338a-46aa-acd7-57bd34990bfc",
   "metadata": {},
   "outputs": [
    {
     "data": {
      "text/plain": [
       "782    0\n",
       "51     0\n",
       "197    0\n",
       "550    0\n",
       "412    1\n",
       "      ..\n",
       "436    0\n",
       "868    0\n",
       "65     0\n",
       "743    0\n",
       "390    0\n",
       "Name: fraud, Length: 196, dtype: int64"
      ]
     },
     "execution_count": 25,
     "metadata": {},
     "output_type": "execute_result"
    }
   ],
   "source": [
    "y_test"
   ]
  },
  {
   "cell_type": "markdown",
   "id": "6b99103e-e971-4b3a-a952-51bf0b1aceef",
   "metadata": {},
   "source": [
    "Prompt: now create a never fraud model and print out first 100 predictions that is wrapped in print\n",
    "\n",
    "AI: ChatGPT-4"
   ]
  },
  {
   "cell_type": "code",
   "execution_count": 26,
   "id": "e995804c-ea10-4d63-8faa-c74cf3bdfafd",
   "metadata": {},
   "outputs": [
    {
     "name": "stdout",
     "output_type": "stream",
     "text": [
      "[0, 0, 0, 0, 0, 0, 0, 0, 0, 0, 0, 0, 0, 0, 0, 0, 0, 0, 0, 0, 0, 0, 0, 0, 0, 0, 0, 0, 0, 0, 0, 0, 0, 0, 0, 0, 0, 0, 0, 0, 0, 0, 0, 0, 0, 0, 0, 0, 0, 0, 0, 0, 0, 0, 0, 0, 0, 0, 0, 0, 0, 0, 0, 0, 0, 0, 0, 0, 0, 0, 0, 0, 0, 0, 0, 0, 0, 0, 0, 0, 0, 0, 0, 0, 0, 0, 0, 0, 0, 0, 0, 0, 0, 0, 0, 0, 0, 0, 0, 0]\n"
     ]
    }
   ],
   "source": [
    "# Create a \"never fraud\" model (predicts non-fraudulent for all cases)\n",
    "y_pred_never_fraud = [0] * len(y_test)\n",
    "\n",
    "# Print the first 100 predictions\n",
    "print(y_pred_never_fraud[:100])"
   ]
  },
  {
   "cell_type": "markdown",
   "id": "4215ad29-a1c8-46ba-9947-f22a85571120",
   "metadata": {},
   "source": [
    "Prompt: now train using a knn classifier that predicts based on X_test and prints the first 100 predictions\n",
    "\n",
    "AI: ChatGPT-4"
   ]
  },
  {
   "cell_type": "code",
   "execution_count": 27,
   "id": "1cd54458-a3bf-4eaa-b766-7b7ca3d31778",
   "metadata": {},
   "outputs": [
    {
     "name": "stdout",
     "output_type": "stream",
     "text": [
      "[0 0 0 0 1 0 0 0 0 0 0 0 0 0 0 0 0 0 0 0 0 0 0 0 0 0 0 0 0 0 1 1 0 0 0 0 0\n",
      " 0 0 0 0 0 0 0 0 0 0 0 0 0 0 0 0 0 0 0 0 0 0 0 0 0 0 0 0 0 0 0 0 1 1 0 0 0\n",
      " 0 0 0 0 0 0 0 0 0 0 0 0 0 0 0 1 0 0 0 0 0 0 0 0 0 0]\n"
     ]
    }
   ],
   "source": [
    "# Initialize the KNN classifier\n",
    "knn = KNeighborsClassifier()\n",
    "\n",
    "# Train the KNN classifier on the training data\n",
    "knn.fit(X_train, y_train)\n",
    "\n",
    "# Make predictions on the test set\n",
    "y_pred_knn = knn.predict(X_test)\n",
    "\n",
    "# Print the first 100 predictions\n",
    "print(y_pred_knn[:100])\n"
   ]
  },
  {
   "cell_type": "markdown",
   "id": "3357e228-0394-4b8f-a0a9-fbb72a6b6a65",
   "metadata": {},
   "source": [
    "Prompt: make a confusion matrix with a heatmap with the never fraud model and have red as color, with the printed classification report\n",
    "\n",
    "AI: ChatGPT-4"
   ]
  },
  {
   "cell_type": "code",
   "execution_count": 28,
   "id": "2c05a3df-34a8-4ac0-ab09-b38bb435c5aa",
   "metadata": {},
   "outputs": [
    {
     "data": {
      "image/png": "[encoded data removed]",
      "text/plain": [
       "<Figure size 432x288 with 2 Axes>"
      ]
     },
     "metadata": {
      "needs_background": "light"
     },
     "output_type": "display_data"
    },
    {
     "name": "stdout",
     "output_type": "stream",
     "text": [
      "Classification Report - Never Fraud Model\n",
      "              precision    recall  f1-score   support\n",
      "\n",
      "           0       0.92      1.00      0.96       181\n",
      "           1       0.00      0.00      0.00        15\n",
      "\n",
      "    accuracy                           0.92       196\n",
      "   macro avg       0.46      0.50      0.48       196\n",
      "weighted avg       0.85      0.92      0.89       196\n",
      "\n"
     ]
    }
   ],
   "source": [
    "from sklearn.metrics import confusion_matrix, classification_report\n",
    "import seaborn as sns\n",
    "import matplotlib.pyplot as plt\n",
    "\n",
    "# Confusion matrix for the Never Fraud model\n",
    "conf_matrix_never_fraud = confusion_matrix(y_test, y_pred_never_fraud)\n",
    "\n",
    "# Plot the confusion matrix heatmap\n",
    "plt.figure(figsize=(6, 4))\n",
    "sns.heatmap(conf_matrix_never_fraud, annot=True, fmt='d', cmap='Reds', cbar=True)\n",
    "plt.title('Confusion Matrix - Never Fraud Model')\n",
    "plt.xlabel('Predicted')\n",
    "plt.ylabel('Actual')\n",
    "plt.show()\n",
    "\n",
    "# Print the classification report for the Never Fraud model\n",
    "print(\"Classification Report - Never Fraud Model\")\n",
    "print(classification_report(y_test, y_pred_never_fraud, zero_division=0))\n"
   ]
  },
  {
   "cell_type": "markdown",
   "id": "8859cdba-2356-4c6a-a3af-a3527b3eb676",
   "metadata": {},
   "source": [
    "Prompt: now create a confusion matrix with a heat map for the knn with blue colors and a title Confusion Matrix - k-NN and give  the classification report\n",
    "\n",
    "AI: ChatGPT-4"
   ]
  },
  {
   "cell_type": "code",
   "execution_count": 29,
   "id": "ec7d118f-6c22-43e8-8db3-bda65d547918",
   "metadata": {},
   "outputs": [
    {
     "data": {
      "image/png": "[encoded data removed]",
      "text/plain": [
       "<Figure size 432x288 with 2 Axes>"
      ]
     },
     "metadata": {
      "needs_background": "light"
     },
     "output_type": "display_data"
    },
    {
     "name": "stdout",
     "output_type": "stream",
     "text": [
      "Classification Report - k-NN\n",
      "              precision    recall  f1-score   support\n",
      "\n",
      "           0       0.97      0.98      0.98       181\n",
      "           1       0.75      0.60      0.67        15\n",
      "\n",
      "    accuracy                           0.95       196\n",
      "   macro avg       0.86      0.79      0.82       196\n",
      "weighted avg       0.95      0.95      0.95       196\n",
      "\n"
     ]
    }
   ],
   "source": [
    "from sklearn.metrics import confusion_matrix, classification_report\n",
    "import seaborn as sns\n",
    "import matplotlib.pyplot as plt\n",
    "\n",
    "# Confusion matrix for the k-NN model\n",
    "conf_matrix_knn = confusion_matrix(y_test, y_pred_knn)\n",
    "\n",
    "# Plot the confusion matrix heatmap\n",
    "plt.figure(figsize=(6, 4))\n",
    "sns.heatmap(conf_matrix_knn, annot=True, fmt='d', cmap='Blues', cbar=True)\n",
    "plt.title('Confusion Matrix - k-NN')\n",
    "plt.xlabel('Predicted')\n",
    "plt.ylabel('Actual')\n",
    "plt.show()\n",
    "\n",
    "# Print the classification report for the k-NN model\n",
    "print(\"Classification Report - k-NN\")\n",
    "print(classification_report(y_test, y_pred_knn, zero_division=0))\n"
   ]
  },
  {
   "cell_type": "markdown",
   "id": "76452b84-0023-4547-8288-5e93808271eb",
   "metadata": {},
   "source": [
    "Prompt: find and compare accuracy precision recall and F1 score using the never fraud model and knn and make a bar graph to show the comparison of models\n",
    "\n",
    "AI: ChatGPT-4"
   ]
  },
  {
   "cell_type": "code",
   "execution_count": 30,
   "id": "a3bb1fbb-0ab2-49aa-a1c7-0adcdafba6ed",
   "metadata": {},
   "outputs": [
    {
     "data": {
      "image/png": "[encoded data removed]",
      "text/plain": [
       "<Figure size 720x432 with 1 Axes>"
      ]
     },
     "metadata": {
      "needs_background": "light"
     },
     "output_type": "display_data"
    }
   ],
   "source": [
    "from sklearn.metrics import accuracy_score, precision_score, recall_score, f1_score\n",
    "import matplotlib.pyplot as plt\n",
    "import pandas as pd\n",
    "\n",
    "# Compute metrics for \"Never Fraud\"\n",
    "accuracy_never_fraud = accuracy_score(y_test, y_pred_never_fraud)\n",
    "precision_never_fraud = precision_score(y_test, y_pred_never_fraud, zero_division=0)\n",
    "recall_never_fraud = recall_score(y_test, y_pred_never_fraud)\n",
    "f1_never_fraud = f1_score(y_test, y_pred_never_fraud)\n",
    "\n",
    "# Compute metrics for k-NN\n",
    "accuracy_knn = accuracy_score(y_test, y_pred_knn)\n",
    "precision_knn = precision_score(y_test, y_pred_knn)\n",
    "recall_knn = recall_score(y_test, y_pred_knn)\n",
    "f1_knn = f1_score(y_test, y_pred_knn)\n",
    "\n",
    "# Prepare data for visualization\n",
    "metrics = ['Accuracy', 'Precision', 'Recall', 'F1 Score']\n",
    "knn_scores = [accuracy_knn, precision_knn, recall_knn, f1_knn]\n",
    "never_fraud_scores = [accuracy_never_fraud, precision_never_fraud, recall_never_fraud, f1_never_fraud]\n",
    "\n",
    "# Create a DataFrame for comparison\n",
    "comparison_transaction_data = pd.DataFrame({\n",
    "    'Metric': metrics,\n",
    "    'k-NN': knn_scores,\n",
    "    'Never Fraud': never_fraud_scores\n",
    "})\n",
    "\n",
    "# Plotting the comparison\n",
    "fig, ax = plt.subplots(figsize=(10, 6))\n",
    "\n",
    "bar_width = 0.35\n",
    "index = range(len(metrics))\n",
    "\n",
    "bar1 = ax.bar(index, knn_scores, bar_width, label='k-NN', color='blue')\n",
    "bar2 = ax.bar([i + bar_width for i in index], never_fraud_scores, bar_width, label='Never Fraud', color='red')\n",
    "\n",
    "ax.set_xlabel('Metric')\n",
    "ax.set_ylabel('Score')\n",
    "ax.set_title('Model Performance Comparison')\n",
    "ax.set_xticks([i + bar_width / 2 for i in index])\n",
    "ax.set_xticklabels(metrics)\n",
    "ax.set_ylim(0, 1)\n",
    "ax.legend()\n",
    "\n",
    "# Show the plot\n",
    "plt.show()\n"
   ]
  },
  {
   "cell_type": "code",
   "execution_count": null,
   "id": "9281ad8c-9f43-4871-97c1-19726a4d30e8",
   "metadata": {},
   "outputs": [],
   "source": []
  }
 ],
 "metadata": {
  "kernelspec": {
   "display_name": "Python 3 (ipykernel)",
   "language": "python",
   "name": "python3"
  },
  "language_info": {
   "codemirror_mode": {
    "name": "ipython",
    "version": 3
   },
   "file_extension": ".py",
   "mimetype": "text/x-python",
   "name": "python",
   "nbconvert_exporter": "python",
   "pygments_lexer": "ipython3",
   "version": "3.9.7"
  }
 },
 "nbformat": 4,
 "nbformat_minor": 5
}
